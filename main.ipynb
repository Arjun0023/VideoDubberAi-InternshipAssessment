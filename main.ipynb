{
 "cells": [
  {
   "cell_type": "code",
   "execution_count": 6,
   "metadata": {},
   "outputs": [],
   "source": [
    "#Webscrapped data of Saved AI names and no. of saves\n",
    "\n",
    "Saved_ai = [\n",
    "    {\"name\": \"StableLM Zephyr 3B\", \"saves\": 11},\n",
    "    {\"name\": \"ResumeBuild\", \"saves\": 41},\n",
    "    {\"name\": \"Casablanca\", \"saves\": 24},\n",
    "    {\"name\": \"Beloga\", \"saves\": 70},\n",
    "    {\"name\": \"AutoDubber\", \"saves\": 134},\n",
    "    {\"name\": \"VideoDubber\", \"saves\": 282}\n",
    "]"
   ]
  },
  {
   "cell_type": "code",
   "execution_count": 7,
   "metadata": {},
   "outputs": [
    {
     "name": "stdout",
     "output_type": "stream",
     "text": [
      "VideoDubber - Saves: 282\n",
      "AutoDubber - Saves: 134\n",
      "Beloga - Saves: 70\n",
      "ResumeBuild - Saves: 41\n",
      "Casablanca - Saves: 24\n",
      "StableLM Zephyr 3B - Saves: 11\n"
     ]
    }
   ],
   "source": [
    "#Sorting the AIs based on \"number of saves\" in descending order.\n",
    "\n",
    "Saved_ai = sorted(Saved_ai, key=lambda x: x[\"saves\"], reverse=True)\n",
    "\n",
    "#printing the final sorted list\n",
    "for ai in Saved_ai:\n",
    "    print(f\"{ai['name']} - Saves: {ai['saves']}\")"
   ]
  },
  {
   "cell_type": "code",
   "execution_count": 8,
   "metadata": {},
   "outputs": [
    {
     "name": "stdout",
     "output_type": "stream",
     "text": [
      "VideoDubber - Saves: 282\n",
      "AutoDubber - Saves: 134\n",
      "Beloga - Saves: 70\n",
      "ResumeBuild - Saves: 41\n",
      "Casablanca - Saves: 24\n",
      "StableLM Zephyr 3B - Saves: 11\n"
     ]
    }
   ],
   "source": [
    "#printing the final sorted list\n",
    "for ai in Saved_ai:\n",
    "    print(f\"{ai['name']} - Saves: {ai['saves']}\")"
   ]
  }
 ],
 "metadata": {
  "kernelspec": {
   "display_name": "Python 3",
   "language": "python",
   "name": "python3"
  },
  "language_info": {
   "codemirror_mode": {
    "name": "ipython",
    "version": 3
   },
   "file_extension": ".py",
   "mimetype": "text/x-python",
   "name": "python",
   "nbconvert_exporter": "python",
   "pygments_lexer": "ipython3",
   "version": "3.9.5"
  }
 },
 "nbformat": 4,
 "nbformat_minor": 2
}
